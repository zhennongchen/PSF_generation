{
 "cells": [
  {
   "cell_type": "code",
   "execution_count": 1,
   "metadata": {},
   "outputs": [],
   "source": [
    "import sys\n",
    "sys.path.append('/workspace/Documents')\n",
    "import os\n",
    "import numpy as np\n",
    "import matplotlib.pyplot as plt\n",
    "import pandas as pd\n",
    "import cv2\n",
    "import nibabel as nb\n",
    "\n",
    "import PSF_generation.python.functions as ff"
   ]
  },
  {
   "cell_type": "code",
   "execution_count": 2,
   "metadata": {},
   "outputs": [],
   "source": [
    "main_path = '/mnt/BPM_NAS/cchen/'\n",
    "ground_truth_path = os.path.join(main_path,'Dataset993_blur/labelsTs')\n",
    "predict_path = os.path.join(main_path, 'project_results/nnUNet_results/Dataset993_blur/nnUNetTrainer__nnUNetPlans__2d/fold_0/inference_Dataset993_imagesTs')"
   ]
  },
  {
   "cell_type": "code",
   "execution_count": 3,
   "metadata": {},
   "outputs": [
    {
     "name": "stdout",
     "output_type": "stream",
     "text": [
      "Total number of cases:  352\n"
     ]
    }
   ],
   "source": [
    "blur_cases = ff.find_all_target_files(['*.nii.gz'], ground_truth_path)\n",
    "print('Total number of cases: ', len(blur_cases))"
   ]
  },
  {
   "cell_type": "code",
   "execution_count": 7,
   "metadata": {},
   "outputs": [],
   "source": [
    "result = []\n",
    "for i in range(0,blur_cases.shape[0]):\n",
    "    blur_case = blur_cases[i]\n",
    "    gt = nb.load(blur_case).get_fdata(); gt = np.round(gt)\n",
    "    pred = nb.load(os.path.join(predict_path, os.path.basename(blur_case))).get_fdata(); pred = np.round(pred)\n",
    "   \n",
    "    # dice = ff.np_categorical_dice(pred,gt,target_class = 1)\n",
    "\n",
    "    gt = [1 if np.sum(gt) == gt.shape[0]*gt.shape[1] else 0][0]\n",
    "    pred = [1 if np.sum(pred) == pred.shape[0]*pred.shape[1] else 0][0]\n",
    "\n",
    "    if gt == pred:\n",
    "        classification = 1\n",
    "    else:\n",
    "        classification = 0\n",
    "\n",
    "    result.append([os.path.basename(blur_case), gt, pred, classification])\n",
    "    \n",
    "result = pd.DataFrame(result, columns = ['Case', 'GT', 'Pred', 'Result'])\n",
    "result.to_excel(os.path.join(main_path, 'project_results/nnUNet_results/Dataset993_blur/nnUNetTrainer__nnUNetPlans__2d/fold_0/classification.xlsx'), index = False)\n",
    "# result = pd.DataFrame(result, columns = ['Case', 'Dice'])\n",
    "# result.to_excel(os.path.join(main_path, 'project_results/nnUNet_results/Dataset993_blur/nnUNetTrainer__nnUNetPlans__2d/fold_0/dice.xlsx'), index = False)"
   ]
  },
  {
   "cell_type": "code",
   "execution_count": 8,
   "metadata": {},
   "outputs": [
    {
     "name": "stdout",
     "output_type": "stream",
     "text": [
      "Total number of cases:  125312\n"
     ]
    }
   ],
   "source": [
    "predict_blur_cases = ff.find_all_target_files(['*.nii.gz'], predict_path)\n",
    "real_blur_cases = []\n",
    "for i in range(0, predict_blur_cases.shape[0]):\n",
    "    c = predict_blur_cases[i]\n",
    "\n",
    "    basename = os.path.basename(c)\n",
    "\n",
    "    not_in = True\n",
    "    for j in range(0, blur_cases.shape[0]):\n",
    "        if basename not in blur_cases[j]:\n",
    "            real_blur_cases.append(blur_cases[j])\n",
    "print('Total number of cases: ', len(real_blur_cases))"
   ]
  },
  {
   "cell_type": "code",
   "execution_count": null,
   "metadata": {},
   "outputs": [],
   "source": []
  }
 ],
 "metadata": {
  "kernelspec": {
   "display_name": "Python 3",
   "language": "python",
   "name": "python3"
  },
  "language_info": {
   "codemirror_mode": {
    "name": "ipython",
    "version": 3
   },
   "file_extension": ".py",
   "mimetype": "text/x-python",
   "name": "python",
   "nbconvert_exporter": "python",
   "pygments_lexer": "ipython3",
   "version": "3.8.17"
  }
 },
 "nbformat": 4,
 "nbformat_minor": 2
}
